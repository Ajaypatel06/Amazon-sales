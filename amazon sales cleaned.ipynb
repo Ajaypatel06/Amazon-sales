{
 "cells": [
  {
   "cell_type": "code",
   "execution_count": 2,
   "metadata": {},
   "outputs": [
    {
     "name": "stdout",
     "output_type": "stream",
     "text": [
      "<class 'pandas.core.frame.DataFrame'>\n",
      "RangeIndex: 100 entries, 0 to 99\n",
      "Data columns (total 16 columns):\n",
      " #   Column          Non-Null Count  Dtype  \n",
      "---  ------          --------------  -----  \n",
      " 0   Region          100 non-null    object \n",
      " 1   Country         100 non-null    object \n",
      " 2   Item_Type       100 non-null    object \n",
      " 3   Sales_Channel   100 non-null    object \n",
      " 4   Order_Priority  100 non-null    object \n",
      " 5   Order_Date      100 non-null    object \n",
      " 6   Order_ID        100 non-null    int64  \n",
      " 7   Ship_Date       100 non-null    object \n",
      " 8   Units_Sold      100 non-null    int64  \n",
      " 9   Unit_Price      100 non-null    float64\n",
      " 10  Unit_Cost       100 non-null    float64\n",
      " 11  Total_Revenue   100 non-null    float64\n",
      " 12  Total_Cost      100 non-null    float64\n",
      " 13  Total_Profit    100 non-null    float64\n",
      " 14  Year            100 non-null    int64  \n",
      " 15  Month           100 non-null    object \n",
      "dtypes: float64(5), int64(3), object(8)\n",
      "memory usage: 12.6+ KB\n",
      "None\n",
      "           Order_ID   Units_Sold  Unit_Price   Unit_Cost  Total_Revenue  \\\n",
      "count  1.000000e+02   100.000000  100.000000  100.000000   1.000000e+02   \n",
      "mean   5.550204e+08  5128.710000  276.761300  191.048000   1.373488e+06   \n",
      "std    2.606153e+08  2794.484562  235.592241  188.208181   1.460029e+06   \n",
      "min    1.146066e+08   124.000000    9.330000    6.920000   4.870260e+03   \n",
      "25%    3.389225e+08  2836.250000   81.730000   35.840000   2.687212e+05   \n",
      "50%    5.577086e+08  5382.500000  179.880000  107.275000   7.523144e+05   \n",
      "75%    7.907551e+08  7369.000000  437.200000  263.330000   2.212045e+06   \n",
      "max    9.940222e+08  9925.000000  668.270000  524.960000   5.997055e+06   \n",
      "\n",
      "         Total_Cost  Total_Profit         Year  \n",
      "count  1.000000e+02  1.000000e+02   100.000000  \n",
      "mean   9.318057e+05  4.416820e+05  2013.230000  \n",
      "std    1.083938e+06  4.385379e+05     2.088231  \n",
      "min    3.612240e+03  1.258020e+03  2010.000000  \n",
      "25%    1.688680e+05  1.214436e+05  2012.000000  \n",
      "50%    3.635664e+05  2.907680e+05  2013.000000  \n",
      "75%    1.613870e+06  6.358288e+05  2015.000000  \n",
      "max    4.509794e+06  1.719922e+06  2017.000000  \n",
      "                              Region                Country        Item_Type  \\\n",
      "0              Australia and Oceania                 Tuvalu        Baby Food   \n",
      "1  Central America and the Caribbean                Grenada           Cereal   \n",
      "2                             Europe                 Russia  Office Supplies   \n",
      "3                 Sub-Saharan Africa  Sao Tome and Principe           Fruits   \n",
      "4                 Sub-Saharan Africa                 Rwanda  Office Supplies   \n",
      "\n",
      "  Sales_Channel Order_Priority  Order_Date   Order_ID   Ship_Date  Units_Sold  \\\n",
      "0       Offline              H  28-05-2010  669165933  27-06-2010        9925   \n",
      "1        Online              C  22-08-2012  963881480  15-09-2012        2804   \n",
      "2       Offline              L  02-05-2014  341417157  08-05-2014        1779   \n",
      "3        Online              C  20-06-2014  514321792  05-07-2014        8102   \n",
      "4       Offline              L  01-02-2013  115456712  06-02-2013        5062   \n",
      "\n",
      "   Unit_Price  Unit_Cost  Total_Revenue  Total_Cost  Total_Profit  Year Month  \n",
      "0      255.28     159.42     2533654.00  1582243.50     951410.50  2010   May  \n",
      "1      205.70     117.11      576782.80   328376.44     248406.36  2012   Aug  \n",
      "2      651.21     524.96     1158502.59   933903.84     224598.75  2014   May  \n",
      "3        9.33       6.92       75591.66    56065.84      19525.82  2014   Jun  \n",
      "4      651.21     524.96     3296425.02  2657347.52     639077.50  2013   Feb  \n"
     ]
    }
   ],
   "source": [
    "import pandas as pd\n",
    "\n",
    "# Load the dataset\n",
    "df = pd.read_csv('cleaned_amazon_sales_data.csv')\n",
    "\n",
    "# Initial exploration\n",
    "print(df.info())  # Check data types and missing values\n",
    "print(df.describe())  # Summary statistics\n",
    "print(df.head())  # Inspect the first few rows\n"
   ]
  },
  {
   "cell_type": "code",
   "execution_count": 3,
   "metadata": {},
   "outputs": [],
   "source": [
    "# Convert 'Order_Date' and 'Ship_Date' to datetime\n",
    "df['Order_Date'] = pd.to_datetime(df['Order_Date'], format='%d-%m-%Y')\n",
    "df['Ship_Date'] = pd.to_datetime(df['Ship_Date'], format='%d-%m-%Y')\n",
    "\n",
    "# Create a 'Year-Month' feature\n",
    "df['Year-Month'] = df['Order_Date'].dt.to_period('M')\n",
    "\n",
    "# Check for any missing values\n",
    "missing_values = df.isnull().sum()\n",
    "\n",
    "# Aggregating sales data: Month-wise, Year-wise, Yearly-Month-wise\n",
    "month_wise = df.groupby(df['Order_Date'].dt.month).agg({'Total_Revenue': 'sum', 'Total_Profit': 'sum'}).reset_index()\n",
    "year_wise = df.groupby(df['Year']).agg({'Total_Revenue': 'sum', 'Total_Profit': 'sum'}).reset_index()\n",
    "yearly_month_wise = df.groupby('Year-Month').agg({'Total_Revenue': 'sum', 'Total_Profit': 'sum'}).reset_index()\n",
    "\n",
    "# Save the aggregated data\n",
    "month_wise.to_csv('month_wise_sales.csv', index=False)\n",
    "year_wise.to_csv('year_wise_sales.csv', index=False)\n",
    "yearly_month_wise.to_csv('yearly_month_wise_sales.csv', index=False)\n"
   ]
  },
  {
   "cell_type": "code",
   "execution_count": 5,
   "metadata": {},
   "outputs": [],
   "source": [
    "# Select only the numeric columns for correlation matrix calculation\n",
    "numeric_df = df.select_dtypes(include=[float, int])\n",
    "\n",
    "# Calculate the correlation matrix\n",
    "correlation_matrix = numeric_df.corr()\n",
    "\n",
    "# Save the correlation matrix\n",
    "correlation_matrix.to_csv('correlation_matrix.csv')\n"
   ]
  }
 ],
 "metadata": {
  "kernelspec": {
   "display_name": "Python 3",
   "language": "python",
   "name": "python3"
  },
  "language_info": {
   "codemirror_mode": {
    "name": "ipython",
    "version": 3
   },
   "file_extension": ".py",
   "mimetype": "text/x-python",
   "name": "python",
   "nbconvert_exporter": "python",
   "pygments_lexer": "ipython3",
   "version": "3.12.4"
  }
 },
 "nbformat": 4,
 "nbformat_minor": 2
}
